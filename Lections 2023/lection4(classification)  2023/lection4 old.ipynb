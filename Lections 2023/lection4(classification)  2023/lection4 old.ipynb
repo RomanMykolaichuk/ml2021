{
 "cells": [
  {
   "cell_type": "markdown",
   "metadata": {},
   "source": [
    "# Lection4\n",
    "\n",
    "![logo](https://miro.medium.com/max/1000/1*Hh53mOF4Xy4eORjLilKOwA.png)"
   ]
  },
  {
   "cell_type": "markdown",
   "metadata": {},
   "source": [
    "[Kaggle.com IRIS](https://www.kaggle.com/hammadzahidali/classification-tutorial-machine-learning)\n",
    "\n",
    "[Kaggle.com 2 IRIS](https://www.kaggle.com/ahmedmohameddawoud/iris-complete-classification-tutorial)\n",
    "\n",
    "[Kaggle.com 3 Titanic](https://www.kaggle.com/junnsss/binary-classification-tutorial-using-titanic-data/notebook)\n",
    "\n"
   ]
  }
 ],
 "metadata": {
  "kernelspec": {
   "display_name": "Python 3.9.5 64-bit",
   "language": "python",
   "name": "python3"
  },
  "language_info": {
   "name": "python",
   "version": "3.9.5"
  },
  "orig_nbformat": 4,
  "vscode": {
   "interpreter": {
    "hash": "81794d4967e6c3204c66dcd87b604927b115b27c00565d3d43f05ba2f3a2cb0d"
   }
  }
 },
 "nbformat": 4,
 "nbformat_minor": 2
}
