{
 "cells": [
  {
   "cell_type": "markdown",
   "source": [
    "# Lection3\r\n",
    "\r\n",
    "![lection logo](title.jpeg)\r\n",
    "\r\n",
    "## Regression"
   ],
   "metadata": {}
  },
  {
   "cell_type": "markdown",
   "source": [
    "\r\n",
    "\r\n",
    "[Wiki](https://en.wikipedia.org/wiki/Linear_regression)\r\n",
    "\r\n",
    "[Scikit-learn Framework](https://scikit-learn.org/stable/#) & [Cheat Sheet](https://www.datacamp.com/community/blog/scikit-learn-cheat-sheet)\r\n",
    "\r\n",
    "[Scikit-learn freeCodeCamp](https://www.youtube.com/watch?v=0B5eIE_1vpU) & [Code](https://github.com/koaning/calm-notebooks)\r\n",
    "\r\n",
    "\r\n",
    "[Kaggle.com 1](https://www.kaggle.com/marcovasquez/machine-learning-for-beginners/notebook)\r\n",
    "\r\n",
    "[Kaggle.com 2](https://www.kaggle.com/kennethjohn/linear-regression-from-scratch)\r\n",
    "\r\n",
    "[Kaggle.com 3](https://www.kaggle.com/darshanjain29/linear-regression-tutorial-intro-maths-and-code)\r\n"
   ],
   "metadata": {}
  }
 ],
 "metadata": {
  "orig_nbformat": 4,
  "language_info": {
   "name": "python",
   "version": "3.7.11",
   "mimetype": "text/x-python",
   "codemirror_mode": {
    "name": "ipython",
    "version": 3
   },
   "pygments_lexer": "ipython3",
   "nbconvert_exporter": "python",
   "file_extension": ".py"
  },
  "kernelspec": {
   "name": "python3",
   "display_name": "Python 3.7.11 64-bit ('tutorialspoint': conda)"
  },
  "interpreter": {
   "hash": "45c35a36beb3d1c2f42a56be9142246513f9d24015e8e4e22f7c95d5b06ff02e"
  }
 },
 "nbformat": 4,
 "nbformat_minor": 2
}