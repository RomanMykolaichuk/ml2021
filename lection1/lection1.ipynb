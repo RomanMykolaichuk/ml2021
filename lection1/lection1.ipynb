{
 "cells": [
  {
   "cell_type": "markdown",
   "source": [
    "Lection1\r\n",
    "\r\n",
    "Course introduction\r\n",
    "\r\n",
    "1. What is Data Science?\r\n",
    "2. Course curriculum&estimation\r\n",
    "3. "
   ],
   "metadata": {}
  }
 ],
 "metadata": {
  "orig_nbformat": 4,
  "language_info": {
   "name": "python"
  }
 },
 "nbformat": 4,
 "nbformat_minor": 2
}