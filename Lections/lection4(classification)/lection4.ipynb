{
 "cells": [
  {
   "cell_type": "markdown",
   "source": [
    "# Lection4\r\n",
    "\r\n",
    "![logo](https://miro.medium.com/max/1000/1*Hh53mOF4Xy4eORjLilKOwA.png)"
   ],
   "metadata": {}
  },
  {
   "cell_type": "markdown",
   "source": [
    "[Kaggle.com IRIS](https://www.kaggle.com/hammadzahidali/classification-tutorial-machine-learning)\r\n",
    "\r\n",
    "[Kaggle.com 2 IRIS](https://www.kaggle.com/ahmedmohameddawoud/iris-complete-classification-tutorial)\r\n",
    "\r\n",
    "[Kaggle.com 3 Titanic](https://www.kaggle.com/junnsss/binary-classification-tutorial-using-titanic-data/notebook)\r\n",
    "\r\n"
   ],
   "metadata": {}
  }
 ],
 "metadata": {
  "orig_nbformat": 4,
  "language_info": {
   "name": "python"
  }
 },
 "nbformat": 4,
 "nbformat_minor": 2
}