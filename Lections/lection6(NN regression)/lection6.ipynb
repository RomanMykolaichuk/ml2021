{
 "cells": [
  {
   "cell_type": "markdown",
   "source": [
    "# Lection6\r\n",
    "\r\n",
    "## Deep Learning Regression\r\n",
    "\r\n",
    "<img src=\"../img/00-how-a-network-learns.png\" width=600px>"
   ],
   "metadata": {}
  },
  {
   "cell_type": "markdown",
   "source": [
    "[Tensorflow documentation](https://www.tensorflow.org/api_docs/python/tf)\r\n",
    "\r\n",
    "[Daniel Bourke video 1](https://www.youtube.com/watch?v=tpCFfeUEGs8&t=0s)\r\n",
    "\r\n",
    "[Daniel Bourke video 2](https://www.youtube.com/watch?v=ZUKz4125WNI&t=0s)\r\n",
    "\r\n",
    "[Daniel Bourke github repo](https://github.com/mrdbourke/tensorflow-deep-learning/)\r\n",
    "\r\n",
    "\r\n",
    "\r\n"
   ],
   "metadata": {}
  },
  {
   "cell_type": "code",
   "execution_count": null,
   "source": [],
   "outputs": [],
   "metadata": {}
  }
 ],
 "metadata": {
  "orig_nbformat": 4,
  "language_info": {
   "name": "python"
  }
 },
 "nbformat": 4,
 "nbformat_minor": 2
}