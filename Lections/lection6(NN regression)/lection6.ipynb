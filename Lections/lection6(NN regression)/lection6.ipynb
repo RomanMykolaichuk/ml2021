{
 "cells": [
  {
   "cell_type": "markdown",
   "source": [
    "# Lection6\r\n",
    "\r\n",
    "## Deep Learning Regression\r\n",
    "\r\n",
    "<img src=\"../img/00-how-a-network-learns.png\" width=600px>"
   ],
   "metadata": {}
  },
  {
   "cell_type": "markdown",
   "source": [
    "[Tensorflow documentation](https://www.tensorflow.org/api_docs/python/tf)\r\n",
    "\r\n",
    "[Daniel Bourke video 1](https://www.youtube.com/watch?v=tpCFfeUEGs8&t=0s)\r\n",
    "\r\n",
    "[Daniel Bourke video 2](https://www.youtube.com/watch?v=ZUKz4125WNI&t=0s)\r\n",
    "\r\n",
    "[Daniel Bourke github repo](https://github.com/mrdbourke/tensorflow-deep-learning/)\r\n",
    "\r\n",
    "\r\n",
    "\r\n"
   ],
   "metadata": {}
  },
  {
   "cell_type": "markdown",
   "source": [
    "# Plan\r\n",
    "\r\n",
    "1. Import TensorFlow\r\n",
    "2. Data preparation\r\n",
    "3. Modeling\r\n",
    "4. Evaluation & Improving\r\n",
    "5. Model save & load"
   ],
   "metadata": {}
  },
  {
   "cell_type": "code",
   "execution_count": 1,
   "source": [
    "import tensorflow as tf \r\n",
    "tf.__version__"
   ],
   "outputs": [
    {
     "output_type": "execute_result",
     "data": {
      "text/plain": [
       "'2.3.0'"
      ]
     },
     "metadata": {},
     "execution_count": 1
    }
   ],
   "metadata": {}
  },
  {
   "cell_type": "code",
   "execution_count": 2,
   "source": [
    "import numpy as np \r\n",
    "import matplotlib.pyplot as plt "
   ],
   "outputs": [],
   "metadata": {}
  },
  {
   "cell_type": "code",
   "execution_count": 3,
   "source": [
    "X = tf.constant(np.arange(0,100,1).astype('float32'))\r\n",
    "y= tf.constant(0.5*X+2)"
   ],
   "outputs": [],
   "metadata": {}
  },
  {
   "cell_type": "code",
   "execution_count": 4,
   "source": [
    "X_train=X[:80]\r\n",
    "X_test=X[80:]\r\n",
    "y_train=y[:80]\r\n",
    "y_test=y[80:]\r\n",
    "\r\n",
    "fig, sp = plt.subplots(figsize=(14,6))\r\n",
    "\r\n",
    "sp.scatter(X_train,y_train)\r\n",
    "sp.scatter(X_test,y_test)\r\n",
    "\r\n",
    " \r\n"
   ],
   "outputs": [
    {
     "output_type": "execute_result",
     "data": {
      "text/plain": [
       "<matplotlib.collections.PathCollection at 0x22caa57e548>"
      ]
     },
     "metadata": {},
     "execution_count": 4
    },
    {
     "output_type": "display_data",
     "data": {
      "image/png": "[encoded data removed]",
      "text/plain": [
       "<Figure size 1008x432 with 1 Axes>"
      ]
     },
     "metadata": {
      "needs_background": "light"
     }
    }
   ],
   "metadata": {}
  },
  {
   "cell_type": "code",
   "execution_count": 5,
   "source": [
    "from sklearn.linear_model import LinearRegression \r\n",
    "\r\n",
    "model1 = LinearRegression().fit(tf.reshape(X_train,(80,1)),y_train)\r\n",
    "\r\n",
    "model1.score(tf.reshape(X_test,(20,1)),y_test)\r\n",
    "\r\n",
    "y1_hat=model1.predict(tf.reshape(X_test,(20,1)))"
   ],
   "outputs": [],
   "metadata": {}
  },
  {
   "cell_type": "code",
   "execution_count": 6,
   "source": [
    "fig, sp = plt.subplots(figsize=(14,6))\r\n",
    "\r\n",
    "sp.scatter(X_train,y_train)\r\n",
    "sp.scatter(X_test,y_test)\r\n",
    "sp.plot(X_test,y1_hat, c=\"white\")"
   ],
   "outputs": [
    {
     "output_type": "execute_result",
     "data": {
      "text/plain": [
       "[<matplotlib.lines.Line2D at 0x22cabc1be08>]"
      ]
     },
     "metadata": {},
     "execution_count": 6
    },
    {
     "output_type": "display_data",
     "data": {
      "image/png": "[encoded data removed]",
      "text/plain": [
       "<Figure size 1008x432 with 1 Axes>"
      ]
     },
     "metadata": {
      "needs_background": "light"
     }
    }
   ],
   "metadata": {}
  },
  {
   "cell_type": "code",
   "execution_count": 7,
   "source": [
    "tf.random.set_seed(48)\r\n",
    "# Create model \r\n",
    "model2 = tf.keras.Sequential([ \r\n",
    "    tf.keras.layers.Dense(1, activation='relu')\r\n",
    "])\r\n",
    "\r\n",
    "# Compile model \r\n",
    "from tensorflow.keras.optimizers import SGD, Adam\r\n",
    "from tensorflow.keras.losses import mae, mse\r\n",
    "\r\n",
    "model2.compile(\r\n",
    "    loss=mae, \r\n",
    "    optimizer=SGD(), \r\n",
    "    metrics=['mae','mse']\r\n",
    ")"
   ],
   "outputs": [],
   "metadata": {}
  },
  {
   "cell_type": "code",
   "execution_count": 8,
   "source": [
    "# Fit model \r\n",
    "history2 = model2.fit(X_train,y_train, epochs=5)"
   ],
   "outputs": [
    {
     "output_type": "stream",
     "name": "stdout",
     "text": [
      "Epoch 1/5\n",
      "3/3 [==============================] - 0s 989us/step - loss: 7.9941 - mae: 7.9941 - mse: 90.1914\n",
      "Epoch 2/5\n",
      "3/3 [==============================] - 0s 666us/step - loss: 7.0082 - mae: 7.0082 - mse: 76.7640\n",
      "Epoch 3/5\n",
      "3/3 [==============================] - 0s 999us/step - loss: 8.3075 - mae: 8.3075 - mse: 107.7038\n",
      "Epoch 4/5\n",
      "3/3 [==============================] - 0s 1000us/step - loss: 7.1188 - mae: 7.1188 - mse: 69.7185\n",
      "Epoch 5/5\n",
      "3/3 [==============================] - 0s 1ms/step - loss: 8.0735 - mae: 8.0735 - mse: 89.9874\n"
     ]
    }
   ],
   "metadata": {}
  },
  {
   "cell_type": "code",
   "execution_count": 9,
   "source": [
    "# model2.summary()\r\n",
    "\r\n",
    "history2.history"
   ],
   "outputs": [
    {
     "output_type": "execute_result",
     "data": {
      "text/plain": [
       "{'loss': [7.994070529937744,\n",
       "  7.008151054382324,\n",
       "  8.307527542114258,\n",
       "  7.1188063621521,\n",
       "  8.073513984680176],\n",
       " 'mae': [7.994070529937744,\n",
       "  7.008151054382324,\n",
       "  8.307527542114258,\n",
       "  7.1188063621521,\n",
       "  8.073513984680176],\n",
       " 'mse': [90.19136047363281,\n",
       "  76.76398468017578,\n",
       "  107.70381164550781,\n",
       "  69.71846008300781,\n",
       "  89.98738098144531]}"
      ]
     },
     "metadata": {},
     "execution_count": 9
    }
   ],
   "metadata": {}
  },
  {
   "cell_type": "code",
   "execution_count": 10,
   "source": [
    "model2.evaluate(X_test,y_test)"
   ],
   "outputs": [
    {
     "output_type": "stream",
     "name": "stdout",
     "text": [
      "1/1 [==============================] - 0s 1000us/step - loss: 11.3364 - mae: 11.3364 - mse: 129.2497\n"
     ]
    },
    {
     "output_type": "execute_result",
     "data": {
      "text/plain": [
       "[11.33643627166748, 11.33643627166748, 129.2496795654297]"
      ]
     },
     "metadata": {},
     "execution_count": 10
    }
   ],
   "metadata": {}
  },
  {
   "cell_type": "code",
   "execution_count": 11,
   "source": [
    "y2_hat=model2.predict(X_test)\r\n",
    "\r\n",
    "y2_hat\r\n",
    "\r\n",
    "y_test-y2_hat\r\n",
    "\r\n"
   ],
   "outputs": [
    {
     "output_type": "execute_result",
     "data": {
      "text/plain": [
       "<tf.Tensor: shape=(20, 20), dtype=float32, numpy=\n",
       "array([[ -9.924088  ,  -9.424088  ,  -8.924088  ,  -8.424088  ,\n",
       "         -7.9240875 ,  -7.4240875 ,  -6.9240875 ,  -6.4240875 ,\n",
       "         -5.9240875 ,  -5.4240875 ,  -4.9240875 ,  -4.4240875 ,\n",
       "         -3.9240875 ,  -3.4240875 ,  -2.9240875 ,  -2.4240875 ,\n",
       "         -1.9240875 ,  -1.4240875 ,  -0.9240875 ,  -0.42408752],\n",
       "       [-10.572754  , -10.072754  ,  -9.572754  ,  -9.072754  ,\n",
       "         -8.572754  ,  -8.072754  ,  -7.572754  ,  -7.072754  ,\n",
       "         -6.572754  ,  -6.072754  ,  -5.572754  ,  -5.072754  ,\n",
       "         -4.572754  ,  -4.072754  ,  -3.572754  ,  -3.072754  ,\n",
       "         -2.572754  ,  -2.072754  ,  -1.5727539 ,  -1.0727539 ],\n",
       "       [-11.221424  , -10.721424  , -10.221424  ,  -9.721424  ,\n",
       "         -9.221424  ,  -8.721424  ,  -8.221424  ,  -7.721424  ,\n",
       "         -7.221424  ,  -6.721424  ,  -6.221424  ,  -5.721424  ,\n",
       "         -5.221424  ,  -4.721424  ,  -4.221424  ,  -3.721424  ,\n",
       "         -3.221424  ,  -2.721424  ,  -2.221424  ,  -1.7214241 ],\n",
       "       [-11.870094  , -11.370094  , -10.870094  , -10.370094  ,\n",
       "         -9.870094  ,  -9.370094  ,  -8.870094  ,  -8.370094  ,\n",
       "         -7.8700943 ,  -7.3700943 ,  -6.8700943 ,  -6.3700943 ,\n",
       "         -5.8700943 ,  -5.3700943 ,  -4.8700943 ,  -4.3700943 ,\n",
       "         -3.8700943 ,  -3.3700943 ,  -2.8700943 ,  -2.3700943 ],\n",
       "       [-12.518761  , -12.018761  , -11.518761  , -11.018761  ,\n",
       "        -10.518761  , -10.018761  ,  -9.518761  ,  -9.018761  ,\n",
       "         -8.518761  ,  -8.018761  ,  -7.5187607 ,  -7.0187607 ,\n",
       "         -6.5187607 ,  -6.0187607 ,  -5.5187607 ,  -5.0187607 ,\n",
       "         -4.5187607 ,  -4.0187607 ,  -3.5187607 ,  -3.0187607 ],\n",
       "       [-13.167427  , -12.667427  , -12.167427  , -11.667427  ,\n",
       "        -11.167427  , -10.667427  , -10.167427  ,  -9.667427  ,\n",
       "         -9.167427  ,  -8.667427  ,  -8.167427  ,  -7.667427  ,\n",
       "         -7.167427  ,  -6.667427  ,  -6.167427  ,  -5.667427  ,\n",
       "         -5.167427  ,  -4.667427  ,  -4.167427  ,  -3.667427  ],\n",
       "       [-13.816097  , -13.316097  , -12.816097  , -12.316097  ,\n",
       "        -11.816097  , -11.316097  , -10.816097  , -10.316097  ,\n",
       "         -9.816097  ,  -9.316097  ,  -8.816097  ,  -8.316097  ,\n",
       "         -7.8160973 ,  -7.3160973 ,  -6.8160973 ,  -6.3160973 ,\n",
       "         -5.8160973 ,  -5.3160973 ,  -4.8160973 ,  -4.3160973 ],\n",
       "       [-14.464767  , -13.964767  , -13.464767  , -12.964767  ,\n",
       "        -12.464767  , -11.964767  , -11.464767  , -10.964767  ,\n",
       "        -10.464767  ,  -9.964767  ,  -9.464767  ,  -8.964767  ,\n",
       "         -8.464767  ,  -7.9647675 ,  -7.4647675 ,  -6.9647675 ,\n",
       "         -6.4647675 ,  -5.9647675 ,  -5.4647675 ,  -4.9647675 ],\n",
       "       [-15.113434  , -14.613434  , -14.113434  , -13.613434  ,\n",
       "        -13.113434  , -12.613434  , -12.113434  , -11.613434  ,\n",
       "        -11.113434  , -10.613434  , -10.113434  ,  -9.613434  ,\n",
       "         -9.113434  ,  -8.613434  ,  -8.113434  ,  -7.613434  ,\n",
       "         -7.113434  ,  -6.613434  ,  -6.113434  ,  -5.613434  ],\n",
       "       [-15.7621    , -15.2621    , -14.7621    , -14.2621    ,\n",
       "        -13.7621    , -13.2621    , -12.7621    , -12.2621    ,\n",
       "        -11.7621    , -11.2621    , -10.7621    , -10.2621    ,\n",
       "         -9.7621    ,  -9.2621    ,  -8.7621    ,  -8.2621    ,\n",
       "         -7.7621    ,  -7.2621    ,  -6.7621    ,  -6.2621    ],\n",
       "       [-16.41077   , -15.91077   , -15.41077   , -14.91077   ,\n",
       "        -14.41077   , -13.91077   , -13.41077   , -12.91077   ,\n",
       "        -12.41077   , -11.91077   , -11.41077   , -10.91077   ,\n",
       "        -10.41077   ,  -9.91077   ,  -9.41077   ,  -8.91077   ,\n",
       "         -8.41077   ,  -7.9107704 ,  -7.4107704 ,  -6.9107704 ],\n",
       "       [-17.05944   , -16.55944   , -16.05944   , -15.559441  ,\n",
       "        -15.059441  , -14.559441  , -14.059441  , -13.559441  ,\n",
       "        -13.059441  , -12.559441  , -12.059441  , -11.559441  ,\n",
       "        -11.059441  , -10.559441  , -10.059441  ,  -9.559441  ,\n",
       "         -9.059441  ,  -8.559441  ,  -8.059441  ,  -7.5594406 ],\n",
       "       [-17.708107  , -17.208107  , -16.708107  , -16.208107  ,\n",
       "        -15.708107  , -15.208107  , -14.708107  , -14.208107  ,\n",
       "        -13.708107  , -13.208107  , -12.708107  , -12.208107  ,\n",
       "        -11.708107  , -11.208107  , -10.708107  , -10.208107  ,\n",
       "         -9.708107  ,  -9.208107  ,  -8.708107  ,  -8.208107  ],\n",
       "       [-18.356773  , -17.856773  , -17.356773  , -16.856773  ,\n",
       "        -16.356773  , -15.856773  , -15.356773  , -14.856773  ,\n",
       "        -14.356773  , -13.856773  , -13.356773  , -12.856773  ,\n",
       "        -12.356773  , -11.856773  , -11.356773  , -10.856773  ,\n",
       "        -10.356773  ,  -9.856773  ,  -9.356773  ,  -8.856773  ],\n",
       "       [-19.005444  , -18.505444  , -18.005444  , -17.505444  ,\n",
       "        -17.005444  , -16.505444  , -16.005444  , -15.505444  ,\n",
       "        -15.005444  , -14.505444  , -14.005444  , -13.505444  ,\n",
       "        -13.005444  , -12.505444  , -12.005444  , -11.505444  ,\n",
       "        -11.005444  , -10.505444  , -10.005444  ,  -9.505444  ],\n",
       "       [-19.654114  , -19.154114  , -18.654114  , -18.154114  ,\n",
       "        -17.654114  , -17.154114  , -16.654114  , -16.154114  ,\n",
       "        -15.654114  , -15.154114  , -14.654114  , -14.154114  ,\n",
       "        -13.654114  , -13.154114  , -12.654114  , -12.154114  ,\n",
       "        -11.654114  , -11.154114  , -10.654114  , -10.154114  ],\n",
       "       [-20.30278   , -19.80278   , -19.30278   , -18.80278   ,\n",
       "        -18.30278   , -17.80278   , -17.30278   , -16.80278   ,\n",
       "        -16.30278   , -15.80278   , -15.30278   , -14.80278   ,\n",
       "        -14.30278   , -13.80278   , -13.30278   , -12.80278   ,\n",
       "        -12.30278   , -11.80278   , -11.30278   , -10.80278   ],\n",
       "       [-20.951447  , -20.451447  , -19.951447  , -19.451447  ,\n",
       "        -18.951447  , -18.451447  , -17.951447  , -17.451447  ,\n",
       "        -16.951447  , -16.451447  , -15.951447  , -15.451447  ,\n",
       "        -14.951447  , -14.451447  , -13.951447  , -13.451447  ,\n",
       "        -12.951447  , -12.451447  , -11.951447  , -11.451447  ],\n",
       "       [-21.600117  , -21.100117  , -20.600117  , -20.100117  ,\n",
       "        -19.600117  , -19.100117  , -18.600117  , -18.100117  ,\n",
       "        -17.600117  , -17.100117  , -16.600117  , -16.100117  ,\n",
       "        -15.600117  , -15.100117  , -14.600117  , -14.100117  ,\n",
       "        -13.600117  , -13.100117  , -12.600117  , -12.100117  ],\n",
       "       [-22.248787  , -21.748787  , -21.248787  , -20.748787  ,\n",
       "        -20.248787  , -19.748787  , -19.248787  , -18.748787  ,\n",
       "        -18.248787  , -17.748787  , -17.248787  , -16.748787  ,\n",
       "        -16.248787  , -15.748787  , -15.248787  , -14.748787  ,\n",
       "        -14.248787  , -13.748787  , -13.248787  , -12.748787  ]],\n",
       "      dtype=float32)>"
      ]
     },
     "metadata": {},
     "execution_count": 11
    }
   ],
   "metadata": {}
  },
  {
   "cell_type": "code",
   "execution_count": 12,
   "source": [
    "tf.random.set_seed(48)\r\n",
    "# Create model \r\n",
    "model3 = tf.keras.Sequential([ \r\n",
    "    tf.keras.layers.Dense(10, activation='relu'),\r\n",
    "    tf.keras.layers.Dense(1)\r\n",
    "])\r\n",
    "\r\n",
    "# Compile model \r\n",
    "from tensorflow.keras.optimizers import SGD, Adam\r\n",
    "from tensorflow.keras.losses import mae, mse\r\n",
    "\r\n",
    "model3.compile(\r\n",
    "    loss=mae, \r\n",
    "    optimizer=SGD(), \r\n",
    "    metrics=['mae']\r\n",
    ")"
   ],
   "outputs": [],
   "metadata": {}
  },
  {
   "cell_type": "code",
   "execution_count": 13,
   "source": [
    "model3.fit(X_train,y_train,epochs=10, verbose=1)"
   ],
   "outputs": [
    {
     "output_type": "stream",
     "name": "stdout",
     "text": [
      "Epoch 1/10\n",
      "3/3 [==============================] - 0s 666us/step - loss: 14.1553 - mae: 14.1553\n",
      "Epoch 2/10\n",
      "3/3 [==============================] - 0s 1000us/step - loss: 8.8096 - mae: 8.8096\n",
      "Epoch 3/10\n",
      "3/3 [==============================] - 0s 666us/step - loss: 9.6584 - mae: 9.6584\n",
      "Epoch 4/10\n",
      "3/3 [==============================] - 0s 667us/step - loss: 9.1761 - mae: 9.1761\n",
      "Epoch 5/10\n",
      "3/3 [==============================] - 0s 998us/step - loss: 6.5064 - mae: 6.5064\n",
      "Epoch 6/10\n",
      "3/3 [==============================] - 0s 667us/step - loss: 8.8829 - mae: 8.8829\n",
      "Epoch 7/10\n",
      "3/3 [==============================] - 0s 666us/step - loss: 6.4743 - mae: 6.4743\n",
      "Epoch 8/10\n",
      "3/3 [==============================] - 0s 956us/step - loss: 9.2889 - mae: 9.2889\n",
      "Epoch 9/10\n",
      "3/3 [==============================] - 0s 666us/step - loss: 10.3863 - mae: 10.3863\n",
      "Epoch 10/10\n",
      "3/3 [==============================] - 0s 868us/step - loss: 7.0824 - mae: 7.0824\n"
     ]
    },
    {
     "output_type": "execute_result",
     "data": {
      "text/plain": [
       "<tensorflow.python.keras.callbacks.History at 0x22cabe2bb48>"
      ]
     },
     "metadata": {},
     "execution_count": 13
    }
   ],
   "metadata": {}
  },
  {
   "cell_type": "code",
   "execution_count": 14,
   "source": [
    "y3_hat=model3.predict(X_test)\r\n",
    "\r\n",
    "y_test-y3_hat"
   ],
   "outputs": [
    {
     "output_type": "execute_result",
     "data": {
      "text/plain": [
       "<tf.Tensor: shape=(20, 20), dtype=float32, numpy=\n",
       "array([[ 7.8516045 ,  8.351604  ,  8.851604  ,  9.351604  ,  9.851604  ,\n",
       "        10.351604  , 10.851604  , 11.351604  , 11.851604  , 12.351604  ,\n",
       "        12.851604  , 13.351604  , 13.851604  , 14.351604  , 14.851604  ,\n",
       "        15.351604  , 15.851604  , 16.351604  , 16.851604  , 17.351604  ],\n",
       "       [ 7.426197  ,  7.926197  ,  8.426197  ,  8.926197  ,  9.426197  ,\n",
       "         9.926197  , 10.426197  , 10.926197  , 11.426197  , 11.926197  ,\n",
       "        12.426197  , 12.926197  , 13.426197  , 13.926197  , 14.426197  ,\n",
       "        14.926197  , 15.426197  , 15.926197  , 16.426197  , 16.926197  ],\n",
       "       [ 7.0007935 ,  7.5007935 ,  8.000793  ,  8.500793  ,  9.000793  ,\n",
       "         9.500793  , 10.000793  , 10.500793  , 11.000793  , 11.500793  ,\n",
       "        12.000793  , 12.500793  , 13.000793  , 13.500793  , 14.000793  ,\n",
       "        14.500793  , 15.000793  , 15.500793  , 16.000793  , 16.500793  ],\n",
       "       [ 6.575382  ,  7.075382  ,  7.575382  ,  8.075382  ,  8.575382  ,\n",
       "         9.075382  ,  9.575382  , 10.075382  , 10.575382  , 11.075382  ,\n",
       "        11.575382  , 12.075382  , 12.575382  , 13.075382  , 13.575382  ,\n",
       "        14.075382  , 14.575382  , 15.075382  , 15.575382  , 16.075382  ],\n",
       "       [ 6.149975  ,  6.649975  ,  7.149975  ,  7.649975  ,  8.149975  ,\n",
       "         8.649975  ,  9.149975  ,  9.649975  , 10.149975  , 10.649975  ,\n",
       "        11.149975  , 11.649975  , 12.149975  , 12.649975  , 13.149975  ,\n",
       "        13.649975  , 14.149975  , 14.649975  , 15.149975  , 15.649975  ],\n",
       "       [ 5.724571  ,  6.224571  ,  6.724571  ,  7.224571  ,  7.724571  ,\n",
       "         8.224571  ,  8.724571  ,  9.224571  ,  9.724571  , 10.224571  ,\n",
       "        10.724571  , 11.224571  , 11.724571  , 12.224571  , 12.724571  ,\n",
       "        13.224571  , 13.724571  , 14.224571  , 14.724571  , 15.224571  ],\n",
       "       [ 5.29916   ,  5.79916   ,  6.29916   ,  6.79916   ,  7.29916   ,\n",
       "         7.79916   ,  8.29916   ,  8.79916   ,  9.29916   ,  9.79916   ,\n",
       "        10.29916   , 10.79916   , 11.29916   , 11.79916   , 12.29916   ,\n",
       "        12.79916   , 13.29916   , 13.79916   , 14.29916   , 14.79916   ],\n",
       "       [ 4.8737526 ,  5.3737526 ,  5.8737526 ,  6.3737526 ,  6.8737526 ,\n",
       "         7.3737526 ,  7.8737526 ,  8.373753  ,  8.873753  ,  9.373753  ,\n",
       "         9.873753  , 10.373753  , 10.873753  , 11.373753  , 11.873753  ,\n",
       "        12.373753  , 12.873753  , 13.373753  , 13.873753  , 14.373753  ],\n",
       "       [ 4.448345  ,  4.948345  ,  5.448345  ,  5.948345  ,  6.448345  ,\n",
       "         6.948345  ,  7.448345  ,  7.948345  ,  8.448345  ,  8.948345  ,\n",
       "         9.448345  ,  9.948345  , 10.448345  , 10.948345  , 11.448345  ,\n",
       "        11.948345  , 12.448345  , 12.948345  , 13.448345  , 13.948345  ],\n",
       "       [ 4.022938  ,  4.522938  ,  5.022938  ,  5.522938  ,  6.022938  ,\n",
       "         6.522938  ,  7.022938  ,  7.522938  ,  8.022938  ,  8.522938  ,\n",
       "         9.022938  ,  9.522938  , 10.022938  , 10.522938  , 11.022938  ,\n",
       "        11.522938  , 12.022938  , 12.522938  , 13.022938  , 13.522938  ],\n",
       "       [ 3.5975304 ,  4.0975304 ,  4.5975304 ,  5.0975304 ,  5.5975304 ,\n",
       "         6.0975304 ,  6.5975304 ,  7.0975304 ,  7.5975304 ,  8.09753   ,\n",
       "         8.59753   ,  9.09753   ,  9.59753   , 10.09753   , 10.59753   ,\n",
       "        11.09753   , 11.59753   , 12.09753   , 12.59753   , 13.09753   ],\n",
       "       [ 3.172123  ,  3.672123  ,  4.172123  ,  4.672123  ,  5.172123  ,\n",
       "         5.672123  ,  6.172123  ,  6.672123  ,  7.172123  ,  7.672123  ,\n",
       "         8.172123  ,  8.672123  ,  9.172123  ,  9.672123  , 10.172123  ,\n",
       "        10.672123  , 11.172123  , 11.672123  , 12.172123  , 12.672123  ],\n",
       "       [ 2.7467155 ,  3.2467155 ,  3.7467155 ,  4.2467155 ,  4.7467155 ,\n",
       "         5.2467155 ,  5.7467155 ,  6.2467155 ,  6.7467155 ,  7.2467155 ,\n",
       "         7.7467155 ,  8.246716  ,  8.746716  ,  9.246716  ,  9.746716  ,\n",
       "        10.246716  , 10.746716  , 11.246716  , 11.746716  , 12.246716  ],\n",
       "       [ 2.3213081 ,  2.8213081 ,  3.3213081 ,  3.8213081 ,  4.321308  ,\n",
       "         4.821308  ,  5.321308  ,  5.821308  ,  6.321308  ,  6.821308  ,\n",
       "         7.321308  ,  7.821308  ,  8.321308  ,  8.821308  ,  9.321308  ,\n",
       "         9.821308  , 10.321308  , 10.821308  , 11.321308  , 11.821308  ],\n",
       "       [ 1.8959007 ,  2.3959007 ,  2.8959007 ,  3.3959007 ,  3.8959007 ,\n",
       "         4.3959007 ,  4.8959007 ,  5.3959007 ,  5.8959007 ,  6.3959007 ,\n",
       "         6.8959007 ,  7.3959007 ,  7.8959007 ,  8.395901  ,  8.895901  ,\n",
       "         9.395901  ,  9.895901  , 10.395901  , 10.895901  , 11.395901  ],\n",
       "       [ 1.4704933 ,  1.9704933 ,  2.4704933 ,  2.9704933 ,  3.4704933 ,\n",
       "         3.9704933 ,  4.4704933 ,  4.9704933 ,  5.4704933 ,  5.9704933 ,\n",
       "         6.4704933 ,  6.9704933 ,  7.4704933 ,  7.9704933 ,  8.470493  ,\n",
       "         8.970493  ,  9.470493  ,  9.970493  , 10.470493  , 10.970493  ],\n",
       "       [ 1.0450897 ,  1.5450897 ,  2.0450897 ,  2.5450897 ,  3.0450897 ,\n",
       "         3.5450897 ,  4.0450897 ,  4.5450897 ,  5.0450897 ,  5.5450897 ,\n",
       "         6.0450897 ,  6.5450897 ,  7.0450897 ,  7.5450897 ,  8.04509   ,\n",
       "         8.54509   ,  9.04509   ,  9.54509   , 10.04509   , 10.54509   ],\n",
       "       [ 0.6196785 ,  1.1196785 ,  1.6196785 ,  2.1196785 ,  2.6196785 ,\n",
       "         3.1196785 ,  3.6196785 ,  4.1196785 ,  4.6196785 ,  5.1196785 ,\n",
       "         5.6196785 ,  6.1196785 ,  6.6196785 ,  7.1196785 ,  7.6196785 ,\n",
       "         8.1196785 ,  8.6196785 ,  9.1196785 ,  9.6196785 , 10.1196785 ],\n",
       "       [ 0.19427109,  0.6942711 ,  1.1942711 ,  1.6942711 ,  2.194271  ,\n",
       "         2.694271  ,  3.194271  ,  3.694271  ,  4.194271  ,  4.694271  ,\n",
       "         5.194271  ,  5.694271  ,  6.194271  ,  6.694271  ,  7.194271  ,\n",
       "         7.694271  ,  8.194271  ,  8.694271  ,  9.194271  ,  9.694271  ],\n",
       "       [-0.23113632,  0.26886368,  0.7688637 ,  1.2688637 ,  1.7688637 ,\n",
       "         2.2688637 ,  2.7688637 ,  3.2688637 ,  3.7688637 ,  4.2688637 ,\n",
       "         4.7688637 ,  5.2688637 ,  5.7688637 ,  6.2688637 ,  6.7688637 ,\n",
       "         7.2688637 ,  7.7688637 ,  8.268864  ,  8.768864  ,  9.268864  ]],\n",
       "      dtype=float32)>"
      ]
     },
     "metadata": {},
     "execution_count": 14
    }
   ],
   "metadata": {}
  },
  {
   "cell_type": "code",
   "execution_count": 15,
   "source": [
    "import matplotlib\r\n",
    "matplotlib.style.available"
   ],
   "outputs": [
    {
     "output_type": "execute_result",
     "data": {
      "text/plain": [
       "['Solarize_Light2',\n",
       " '_classic_test_patch',\n",
       " 'bmh',\n",
       " 'classic',\n",
       " 'dark_background',\n",
       " 'fast',\n",
       " 'fivethirtyeight',\n",
       " 'ggplot',\n",
       " 'grayscale',\n",
       " 'seaborn',\n",
       " 'seaborn-bright',\n",
       " 'seaborn-colorblind',\n",
       " 'seaborn-dark',\n",
       " 'seaborn-dark-palette',\n",
       " 'seaborn-darkgrid',\n",
       " 'seaborn-deep',\n",
       " 'seaborn-muted',\n",
       " 'seaborn-notebook',\n",
       " 'seaborn-paper',\n",
       " 'seaborn-pastel',\n",
       " 'seaborn-poster',\n",
       " 'seaborn-talk',\n",
       " 'seaborn-ticks',\n",
       " 'seaborn-white',\n",
       " 'seaborn-whitegrid',\n",
       " 'tableau-colorblind10']"
      ]
     },
     "metadata": {},
     "execution_count": 15
    }
   ],
   "metadata": {}
  },
  {
   "cell_type": "code",
   "execution_count": 16,
   "source": [
    "matplotlib.style.use('ggplot')\r\n",
    "\r\n",
    "fig, sp = plt.subplots(figsize=(10,4))\r\n",
    "\r\n",
    "sp.scatter(X_train,y_train, label='Train set')\r\n",
    "sp.scatter(X_test,y_test, label='Test set')\r\n",
    "sp.plot(X_test,y1_hat, c=\"darkblue\", label='Model 1 (LR)')\r\n",
    "sp.plot(X_test,y2_hat, c=\"violet\", label='Model 2 (DL 1)', linewidth=5)\r\n",
    "sp.plot(X_test,y3_hat, c=\"brown\", label='Model 3 (DL 10)', linewidth=5)\r\n",
    "\r\n",
    "sp.set_title('Regression')\r\n",
    "sp.set_xlabel('X')\r\n",
    "sp.set_ylabel('y')\r\n",
    "sp.set_xlim(0,100)\r\n",
    "sp.set_ylim(0,80)\r\n",
    "sp.legend(loc=('upper left'))\r\n"
   ],
   "outputs": [
    {
     "output_type": "execute_result",
     "data": {
      "text/plain": [
       "<matplotlib.legend.Legend at 0x22cad71b9c8>"
      ]
     },
     "metadata": {},
     "execution_count": 16
    },
    {
     "output_type": "display_data",
     "data": {
      "image/png": "[encoded data removed]",
      "text/plain": [
       "<Figure size 720x288 with 1 Axes>"
      ]
     },
     "metadata": {}
    }
   ],
   "metadata": {}
  },
  {
   "cell_type": "code",
   "execution_count": 17,
   "source": [
    "import pandas as pd\r\n",
    "\r\n",
    "insurance = pd.read_csv(\"https://raw.githubusercontent.com/stedy/Machine-Learning-with-R-datasets/master/insurance.csv\")"
   ],
   "outputs": [],
   "metadata": {}
  },
  {
   "cell_type": "code",
   "execution_count": 18,
   "source": [
    "insurance.head()"
   ],
   "outputs": [
    {
     "output_type": "execute_result",
     "data": {
      "text/html": [
       "<div>\n",
       "<style scoped>\n",
       "    .dataframe tbody tr th:only-of-type {\n",
       "        vertical-align: middle;\n",
       "    }\n",
       "\n",
       "    .dataframe tbody tr th {\n",
       "        vertical-align: top;\n",
       "    }\n",
       "\n",
       "    .dataframe thead th {\n",
       "        text-align: right;\n",
       "    }\n",
       "</style>\n",
       "<table border=\"1\" class=\"dataframe\">\n",
       "  <thead>\n",
       "    <tr style=\"text-align: right;\">\n",
       "      <th></th>\n",
       "      <th>age</th>\n",
       "      <th>sex</th>\n",
       "      <th>bmi</th>\n",
       "      <th>children</th>\n",
       "      <th>smoker</th>\n",
       "      <th>region</th>\n",
       "      <th>charges</th>\n",
       "    </tr>\n",
       "  </thead>\n",
       "  <tbody>\n",
       "    <tr>\n",
       "      <th>0</th>\n",
       "      <td>19</td>\n",
       "      <td>female</td>\n",
       "      <td>27.900</td>\n",
       "      <td>0</td>\n",
       "      <td>yes</td>\n",
       "      <td>southwest</td>\n",
       "      <td>16884.92400</td>\n",
       "    </tr>\n",
       "    <tr>\n",
       "      <th>1</th>\n",
       "      <td>18</td>\n",
       "      <td>male</td>\n",
       "      <td>33.770</td>\n",
       "      <td>1</td>\n",
       "      <td>no</td>\n",
       "      <td>southeast</td>\n",
       "      <td>1725.55230</td>\n",
       "    </tr>\n",
       "    <tr>\n",
       "      <th>2</th>\n",
       "      <td>28</td>\n",
       "      <td>male</td>\n",
       "      <td>33.000</td>\n",
       "      <td>3</td>\n",
       "      <td>no</td>\n",
       "      <td>southeast</td>\n",
       "      <td>4449.46200</td>\n",
       "    </tr>\n",
       "    <tr>\n",
       "      <th>3</th>\n",
       "      <td>33</td>\n",
       "      <td>male</td>\n",
       "      <td>22.705</td>\n",
       "      <td>0</td>\n",
       "      <td>no</td>\n",
       "      <td>northwest</td>\n",
       "      <td>21984.47061</td>\n",
       "    </tr>\n",
       "    <tr>\n",
       "      <th>4</th>\n",
       "      <td>32</td>\n",
       "      <td>male</td>\n",
       "      <td>28.880</td>\n",
       "      <td>0</td>\n",
       "      <td>no</td>\n",
       "      <td>northwest</td>\n",
       "      <td>3866.85520</td>\n",
       "    </tr>\n",
       "  </tbody>\n",
       "</table>\n",
       "</div>"
      ],
      "text/plain": [
       "   age     sex     bmi  children smoker     region      charges\n",
       "0   19  female  27.900         0    yes  southwest  16884.92400\n",
       "1   18    male  33.770         1     no  southeast   1725.55230\n",
       "2   28    male  33.000         3     no  southeast   4449.46200\n",
       "3   33    male  22.705         0     no  northwest  21984.47061\n",
       "4   32    male  28.880         0     no  northwest   3866.85520"
      ]
     },
     "metadata": {},
     "execution_count": 18
    }
   ],
   "metadata": {}
  },
  {
   "cell_type": "code",
   "execution_count": 19,
   "source": [
    "insurance.isna().sum()"
   ],
   "outputs": [
    {
     "output_type": "execute_result",
     "data": {
      "text/plain": [
       "age         0\n",
       "sex         0\n",
       "bmi         0\n",
       "children    0\n",
       "smoker      0\n",
       "region      0\n",
       "charges     0\n",
       "dtype: int64"
      ]
     },
     "metadata": {},
     "execution_count": 19
    }
   ],
   "metadata": {}
  },
  {
   "cell_type": "code",
   "execution_count": 20,
   "source": [
    "insurance=pd.get_dummies(insurance)\r\n",
    "\r\n",
    "insurance.head(3)"
   ],
   "outputs": [
    {
     "output_type": "execute_result",
     "data": {
      "text/html": [
       "<div>\n",
       "<style scoped>\n",
       "    .dataframe tbody tr th:only-of-type {\n",
       "        vertical-align: middle;\n",
       "    }\n",
       "\n",
       "    .dataframe tbody tr th {\n",
       "        vertical-align: top;\n",
       "    }\n",
       "\n",
       "    .dataframe thead th {\n",
       "        text-align: right;\n",
       "    }\n",
       "</style>\n",
       "<table border=\"1\" class=\"dataframe\">\n",
       "  <thead>\n",
       "    <tr style=\"text-align: right;\">\n",
       "      <th></th>\n",
       "      <th>age</th>\n",
       "      <th>bmi</th>\n",
       "      <th>children</th>\n",
       "      <th>charges</th>\n",
       "      <th>sex_female</th>\n",
       "      <th>sex_male</th>\n",
       "      <th>smoker_no</th>\n",
       "      <th>smoker_yes</th>\n",
       "      <th>region_northeast</th>\n",
       "      <th>region_northwest</th>\n",
       "      <th>region_southeast</th>\n",
       "      <th>region_southwest</th>\n",
       "    </tr>\n",
       "  </thead>\n",
       "  <tbody>\n",
       "    <tr>\n",
       "      <th>0</th>\n",
       "      <td>19</td>\n",
       "      <td>27.90</td>\n",
       "      <td>0</td>\n",
       "      <td>16884.9240</td>\n",
       "      <td>1</td>\n",
       "      <td>0</td>\n",
       "      <td>0</td>\n",
       "      <td>1</td>\n",
       "      <td>0</td>\n",
       "      <td>0</td>\n",
       "      <td>0</td>\n",
       "      <td>1</td>\n",
       "    </tr>\n",
       "    <tr>\n",
       "      <th>1</th>\n",
       "      <td>18</td>\n",
       "      <td>33.77</td>\n",
       "      <td>1</td>\n",
       "      <td>1725.5523</td>\n",
       "      <td>0</td>\n",
       "      <td>1</td>\n",
       "      <td>1</td>\n",
       "      <td>0</td>\n",
       "      <td>0</td>\n",
       "      <td>0</td>\n",
       "      <td>1</td>\n",
       "      <td>0</td>\n",
       "    </tr>\n",
       "    <tr>\n",
       "      <th>2</th>\n",
       "      <td>28</td>\n",
       "      <td>33.00</td>\n",
       "      <td>3</td>\n",
       "      <td>4449.4620</td>\n",
       "      <td>0</td>\n",
       "      <td>1</td>\n",
       "      <td>1</td>\n",
       "      <td>0</td>\n",
       "      <td>0</td>\n",
       "      <td>0</td>\n",
       "      <td>1</td>\n",
       "      <td>0</td>\n",
       "    </tr>\n",
       "  </tbody>\n",
       "</table>\n",
       "</div>"
      ],
      "text/plain": [
       "   age    bmi  children     charges  sex_female  sex_male  smoker_no  \\\n",
       "0   19  27.90         0  16884.9240           1         0          0   \n",
       "1   18  33.77         1   1725.5523           0         1          1   \n",
       "2   28  33.00         3   4449.4620           0         1          1   \n",
       "\n",
       "   smoker_yes  region_northeast  region_northwest  region_southeast  \\\n",
       "0           1                 0                 0                 0   \n",
       "1           0                 0                 0                 1   \n",
       "2           0                 0                 0                 1   \n",
       "\n",
       "   region_southwest  \n",
       "0                 1  \n",
       "1                 0  \n",
       "2                 0  "
      ]
     },
     "metadata": {},
     "execution_count": 20
    }
   ],
   "metadata": {}
  },
  {
   "cell_type": "code",
   "execution_count": 21,
   "source": [
    "X=insurance.drop(\"charges\",axis=1)\r\n",
    "y=insurance[\"charges\"]\r\n",
    "\r\n",
    "X.head(), y.head()\r\n"
   ],
   "outputs": [
    {
     "output_type": "execute_result",
     "data": {
      "text/plain": [
       "(   age     bmi  children  sex_female  sex_male  smoker_no  smoker_yes  \\\n",
       " 0   19  27.900         0           1         0          0           1   \n",
       " 1   18  33.770         1           0         1          1           0   \n",
       " 2   28  33.000         3           0         1          1           0   \n",
       " 3   33  22.705         0           0         1          1           0   \n",
       " 4   32  28.880         0           0         1          1           0   \n",
       " \n",
       "    region_northeast  region_northwest  region_southeast  region_southwest  \n",
       " 0                 0                 0                 0                 1  \n",
       " 1                 0                 0                 1                 0  \n",
       " 2                 0                 0                 1                 0  \n",
       " 3                 0                 1                 0                 0  \n",
       " 4                 0                 1                 0                 0  ,\n",
       " 0    16884.92400\n",
       " 1     1725.55230\n",
       " 2     4449.46200\n",
       " 3    21984.47061\n",
       " 4     3866.85520\n",
       " Name: charges, dtype: float64)"
      ]
     },
     "metadata": {},
     "execution_count": 21
    }
   ],
   "metadata": {}
  },
  {
   "cell_type": "code",
   "execution_count": 22,
   "source": [
    "from sklearn.model_selection import train_test_split \r\n",
    "X_train,X_test,y_train,y_test = train_test_split(X,y,test_size=0.2,random_state=48)"
   ],
   "outputs": [],
   "metadata": {}
  },
  {
   "cell_type": "code",
   "execution_count": 23,
   "source": [
    "tf.random.set_seed=48\r\n",
    "\r\n",
    "ins_model = tf.keras.Sequential([ \r\n",
    "    tf.keras.layers.Dense(10),\r\n",
    "    tf.keras.layers.Dense(1)\r\n",
    "])\r\n",
    "\r\n",
    "ins_model.compile(\r\n",
    "    loss='mse',\r\n",
    "    optimizer=Adam(),\r\n",
    "    metrics=['mse']\r\n",
    ")"
   ],
   "outputs": [],
   "metadata": {}
  },
  {
   "cell_type": "code",
   "execution_count": 24,
   "source": [
    "X_train.shape"
   ],
   "outputs": [
    {
     "output_type": "execute_result",
     "data": {
      "text/plain": [
       "(1070, 11)"
      ]
     },
     "metadata": {},
     "execution_count": 24
    }
   ],
   "metadata": {}
  },
  {
   "cell_type": "code",
   "execution_count": 25,
   "source": [
    "ins_history = ins_model.fit(X_train,y_train,epochs=10)"
   ],
   "outputs": [
    {
     "output_type": "stream",
     "name": "stdout",
     "text": [
      "Epoch 1/10\n",
      "WARNING:tensorflow:Layer dense_3 is casting an input tensor from dtype float64 to the layer's dtype of float32, which is new behavior in TensorFlow 2.  The layer has dtype float32 because its dtype defaults to floatx.\n",
      "\n",
      "If you intended to run this layer in float32, you can safely ignore this warning. If in doubt, this warning is likely only an issue if you are porting a TensorFlow 1.X model to TensorFlow 2.\n",
      "\n",
      "To change all layers to have dtype float64 by default, call `tf.keras.backend.set_floatx('float64')`. To change just this layer, pass dtype='float64' to the layer constructor. If you are the author of this layer, you can disable autocasting by passing autocast=False to the base Layer constructor.\n",
      "\n",
      "34/34 [==============================] - 0s 706us/step - loss: 318006080.0000 - mse: 318006080.0000\n",
      "Epoch 2/10\n",
      "34/34 [==============================] - 0s 948us/step - loss: 317679648.0000 - mse: 317679648.0000\n",
      "Epoch 3/10\n",
      "34/34 [==============================] - 0s 781us/step - loss: 317343904.0000 - mse: 317343904.0000\n",
      "Epoch 4/10\n",
      "34/34 [==============================] - 0s 613us/step - loss: 316974560.0000 - mse: 316974560.0000\n",
      "Epoch 5/10\n",
      "34/34 [==============================] - 0s 615us/step - loss: 316536448.0000 - mse: 316536448.0000\n",
      "Epoch 6/10\n",
      "34/34 [==============================] - 0s 588us/step - loss: 316011008.0000 - mse: 316011008.0000\n",
      "Epoch 7/10\n",
      "34/34 [==============================] - 0s 625us/step - loss: 315374336.0000 - mse: 315374336.0000\n",
      "Epoch 8/10\n",
      "34/34 [==============================] - 0s 1ms/step - loss: 314629824.0000 - mse: 314629824.0000\n",
      "Epoch 9/10\n",
      "34/34 [==============================] - 0s 1ms/step - loss: 313772448.0000 - mse: 313772448.0000\n",
      "Epoch 10/10\n",
      "34/34 [==============================] - 0s 1ms/step - loss: 312798528.0000 - mse: 312798528.0000\n"
     ]
    }
   ],
   "metadata": {}
  },
  {
   "cell_type": "code",
   "execution_count": 26,
   "source": [
    "ins_history2 = ins_model.fit(X_train,y_train,epochs=200, verbose=0)"
   ],
   "outputs": [],
   "metadata": {}
  },
  {
   "cell_type": "code",
   "execution_count": 27,
   "source": [
    "\r\n",
    "score1=ins_model.evaluate(X_test,y_test)\r\n"
   ],
   "outputs": [
    {
     "output_type": "stream",
     "name": "stdout",
     "text": [
      "9/9 [==============================] - 0s 2ms/step - loss: 134756864.0000 - mse: 134756864.0000\n"
     ]
    }
   ],
   "metadata": {}
  },
  {
   "cell_type": "code",
   "execution_count": 28,
   "source": [
    "\r\n",
    "\r\n",
    "pd.DataFrame(ins_history.history).plot(xlabel=\"epochs\", \r\n",
    "ylabel=\"loss\",title=\"History ins_model\", xlim=(0,10))\r\n",
    "pd.DataFrame(ins_history2.history).plot(xlabel=\"epochs\", \r\n",
    "ylabel=\"loss\",title=\"History ins_model2\", xlim=(0,200))\r\n",
    "\r\n",
    "\r\n"
   ],
   "outputs": [
    {
     "output_type": "execute_result",
     "data": {
      "text/plain": [
       "<AxesSubplot:title={'center':'History ins_model2'}, xlabel='epochs', ylabel='loss'>"
      ]
     },
     "metadata": {},
     "execution_count": 28
    },
    {
     "output_type": "display_data",
     "data": {
      "image/png": "[encoded data removed]",
      "text/plain": [
       "<Figure size 432x288 with 1 Axes>"
      ]
     },
     "metadata": {}
    },
    {
     "output_type": "display_data",
     "data": {
      "image/png": "[encoded data removed]",
      "text/plain": [
       "<Figure size 432x288 with 1 Axes>"
      ]
     },
     "metadata": {}
    }
   ],
   "metadata": {}
  },
  {
   "cell_type": "code",
   "execution_count": 29,
   "source": [
    "from tensorflow.keras.utils import plot_model\r\n",
    "plot_model(ins_model, show_shapes=True)"
   ],
   "outputs": [
    {
     "output_type": "execute_result",
     "data": {
      "image/png": "[encoded data removed]",
      "text/plain": [
       "<IPython.core.display.Image object>"
      ]
     },
     "metadata": {},
     "execution_count": 29
    }
   ],
   "metadata": {}
  },
  {
   "cell_type": "code",
   "execution_count": 30,
   "source": [
    "# Model save and load \r\n",
    "ins_model.save(\"ins_model.h5\")"
   ],
   "outputs": [],
   "metadata": {}
  },
  {
   "cell_type": "code",
   "execution_count": 31,
   "source": [
    "ins_model_loaded=tf.keras.models.load_model(\"ins_model.h5\")"
   ],
   "outputs": [],
   "metadata": {}
  },
  {
   "cell_type": "code",
   "execution_count": 32,
   "source": [
    "y1=ins_model.predict(X_test)\r\n",
    "y2=ins_model_loaded.predict(X_test)\r\n",
    "\r\n",
    "(y1-y2).sum()"
   ],
   "outputs": [
    {
     "output_type": "execute_result",
     "data": {
      "text/plain": [
       "0.0"
      ]
     },
     "metadata": {},
     "execution_count": 32
    }
   ],
   "metadata": {}
  },
  {
   "cell_type": "code",
   "execution_count": 33,
   "source": [
    "X_train.head()"
   ],
   "outputs": [
    {
     "output_type": "execute_result",
     "data": {
      "text/html": [
       "<div>\n",
       "<style scoped>\n",
       "    .dataframe tbody tr th:only-of-type {\n",
       "        vertical-align: middle;\n",
       "    }\n",
       "\n",
       "    .dataframe tbody tr th {\n",
       "        vertical-align: top;\n",
       "    }\n",
       "\n",
       "    .dataframe thead th {\n",
       "        text-align: right;\n",
       "    }\n",
       "</style>\n",
       "<table border=\"1\" class=\"dataframe\">\n",
       "  <thead>\n",
       "    <tr style=\"text-align: right;\">\n",
       "      <th></th>\n",
       "      <th>age</th>\n",
       "      <th>bmi</th>\n",
       "      <th>children</th>\n",
       "      <th>sex_female</th>\n",
       "      <th>sex_male</th>\n",
       "      <th>smoker_no</th>\n",
       "      <th>smoker_yes</th>\n",
       "      <th>region_northeast</th>\n",
       "      <th>region_northwest</th>\n",
       "      <th>region_southeast</th>\n",
       "      <th>region_southwest</th>\n",
       "    </tr>\n",
       "  </thead>\n",
       "  <tbody>\n",
       "    <tr>\n",
       "      <th>655</th>\n",
       "      <td>52</td>\n",
       "      <td>25.30</td>\n",
       "      <td>2</td>\n",
       "      <td>1</td>\n",
       "      <td>0</td>\n",
       "      <td>0</td>\n",
       "      <td>1</td>\n",
       "      <td>0</td>\n",
       "      <td>0</td>\n",
       "      <td>1</td>\n",
       "      <td>0</td>\n",
       "    </tr>\n",
       "    <tr>\n",
       "      <th>516</th>\n",
       "      <td>20</td>\n",
       "      <td>35.31</td>\n",
       "      <td>1</td>\n",
       "      <td>0</td>\n",
       "      <td>1</td>\n",
       "      <td>1</td>\n",
       "      <td>0</td>\n",
       "      <td>0</td>\n",
       "      <td>0</td>\n",
       "      <td>1</td>\n",
       "      <td>0</td>\n",
       "    </tr>\n",
       "    <tr>\n",
       "      <th>226</th>\n",
       "      <td>28</td>\n",
       "      <td>38.06</td>\n",
       "      <td>0</td>\n",
       "      <td>0</td>\n",
       "      <td>1</td>\n",
       "      <td>1</td>\n",
       "      <td>0</td>\n",
       "      <td>0</td>\n",
       "      <td>0</td>\n",
       "      <td>1</td>\n",
       "      <td>0</td>\n",
       "    </tr>\n",
       "    <tr>\n",
       "      <th>149</th>\n",
       "      <td>19</td>\n",
       "      <td>28.40</td>\n",
       "      <td>1</td>\n",
       "      <td>0</td>\n",
       "      <td>1</td>\n",
       "      <td>1</td>\n",
       "      <td>0</td>\n",
       "      <td>0</td>\n",
       "      <td>0</td>\n",
       "      <td>0</td>\n",
       "      <td>1</td>\n",
       "    </tr>\n",
       "    <tr>\n",
       "      <th>11</th>\n",
       "      <td>62</td>\n",
       "      <td>26.29</td>\n",
       "      <td>0</td>\n",
       "      <td>1</td>\n",
       "      <td>0</td>\n",
       "      <td>0</td>\n",
       "      <td>1</td>\n",
       "      <td>0</td>\n",
       "      <td>0</td>\n",
       "      <td>1</td>\n",
       "      <td>0</td>\n",
       "    </tr>\n",
       "  </tbody>\n",
       "</table>\n",
       "</div>"
      ],
      "text/plain": [
       "     age    bmi  children  sex_female  sex_male  smoker_no  smoker_yes  \\\n",
       "655   52  25.30         2           1         0          0           1   \n",
       "516   20  35.31         1           0         1          1           0   \n",
       "226   28  38.06         0           0         1          1           0   \n",
       "149   19  28.40         1           0         1          1           0   \n",
       "11    62  26.29         0           1         0          0           1   \n",
       "\n",
       "     region_northeast  region_northwest  region_southeast  region_southwest  \n",
       "655                 0                 0                 1                 0  \n",
       "516                 0                 0                 1                 0  \n",
       "226                 0                 0                 1                 0  \n",
       "149                 0                 0                 0                 1  \n",
       "11                  0                 0                 1                 0  "
      ]
     },
     "metadata": {},
     "execution_count": 33
    }
   ],
   "metadata": {}
  },
  {
   "cell_type": "code",
   "execution_count": 34,
   "source": [
    "from sklearn.compose import make_column_transformer\r\n",
    "from sklearn.preprocessing import MinMaxScaler, OneHotEncoder"
   ],
   "outputs": [],
   "metadata": {}
  },
  {
   "cell_type": "code",
   "execution_count": 35,
   "source": [
    "insurance2 = pd.read_csv(\"https://raw.githubusercontent.com/stedy/Machine-Learning-with-R-datasets/master/insurance.csv\")"
   ],
   "outputs": [],
   "metadata": {}
  },
  {
   "cell_type": "code",
   "execution_count": 36,
   "source": [
    "insurance2.head(2)"
   ],
   "outputs": [
    {
     "output_type": "execute_result",
     "data": {
      "text/html": [
       "<div>\n",
       "<style scoped>\n",
       "    .dataframe tbody tr th:only-of-type {\n",
       "        vertical-align: middle;\n",
       "    }\n",
       "\n",
       "    .dataframe tbody tr th {\n",
       "        vertical-align: top;\n",
       "    }\n",
       "\n",
       "    .dataframe thead th {\n",
       "        text-align: right;\n",
       "    }\n",
       "</style>\n",
       "<table border=\"1\" class=\"dataframe\">\n",
       "  <thead>\n",
       "    <tr style=\"text-align: right;\">\n",
       "      <th></th>\n",
       "      <th>age</th>\n",
       "      <th>sex</th>\n",
       "      <th>bmi</th>\n",
       "      <th>children</th>\n",
       "      <th>smoker</th>\n",
       "      <th>region</th>\n",
       "      <th>charges</th>\n",
       "    </tr>\n",
       "  </thead>\n",
       "  <tbody>\n",
       "    <tr>\n",
       "      <th>0</th>\n",
       "      <td>19</td>\n",
       "      <td>female</td>\n",
       "      <td>27.90</td>\n",
       "      <td>0</td>\n",
       "      <td>yes</td>\n",
       "      <td>southwest</td>\n",
       "      <td>16884.9240</td>\n",
       "    </tr>\n",
       "    <tr>\n",
       "      <th>1</th>\n",
       "      <td>18</td>\n",
       "      <td>male</td>\n",
       "      <td>33.77</td>\n",
       "      <td>1</td>\n",
       "      <td>no</td>\n",
       "      <td>southeast</td>\n",
       "      <td>1725.5523</td>\n",
       "    </tr>\n",
       "  </tbody>\n",
       "</table>\n",
       "</div>"
      ],
      "text/plain": [
       "   age     sex    bmi  children smoker     region     charges\n",
       "0   19  female  27.90         0    yes  southwest  16884.9240\n",
       "1   18    male  33.77         1     no  southeast   1725.5523"
      ]
     },
     "metadata": {},
     "execution_count": 36
    }
   ],
   "metadata": {}
  },
  {
   "cell_type": "code",
   "execution_count": 37,
   "source": [
    "ct = make_column_transformer(\r\n",
    "    (MinMaxScaler(),[\"age\",\"bmi\",\"children\"]), \r\n",
    "    (OneHotEncoder(handle_unknown=\"ignore\"),[\"sex\",\"smoker\",\"region\"])\r\n",
    ")"
   ],
   "outputs": [],
   "metadata": {}
  },
  {
   "cell_type": "code",
   "execution_count": 38,
   "source": [
    "X=insurance2.drop(\"charges\", axis=1)\r\n",
    "y = insurance2[\"charges\"]\r\n",
    "\r\n",
    "X_train,X_test,y_train,y_test = train_test_split(X,y,test_size=0.2) "
   ],
   "outputs": [],
   "metadata": {}
  },
  {
   "cell_type": "code",
   "execution_count": 39,
   "source": [
    "ct.fit(X_train)\r\n",
    "\r\n",
    "X_train_norm = ct.transform(X_train)\r\n",
    "X_test_norm = ct.transform(X_test)"
   ],
   "outputs": [],
   "metadata": {}
  },
  {
   "cell_type": "code",
   "execution_count": 92,
   "source": [
    "# tf.random.set_seed(48)\r\n",
    "\r\n",
    "im3= tf.keras.Sequential([ \r\n",
    "    \r\n",
    "    tf.keras.layers.Dense(100),\r\n",
    "    tf.keras.layers.Dense(10),\r\n",
    "    tf.keras.layers.Dense(1)\r\n",
    "])\r\n",
    "\r\n",
    "im3.compile(\r\n",
    "    loss=mae, \r\n",
    "    optimizer=Adam(), \r\n",
    "    metrics=[\"mae\"]\r\n",
    ")\r\n",
    "\r\n"
   ],
   "outputs": [],
   "metadata": {}
  },
  {
   "cell_type": "code",
   "execution_count": 93,
   "source": [
    "history_im3=im3.fit(X_train_norm,y_train,validation_split=0.3,epochs=30,verbose=0)\r\n",
    "\r\n",
    "im3.evaluate(X_test_norm,y_test)\r\n",
    "\r\n",
    "X_train.shape"
   ],
   "outputs": [
    {
     "output_type": "stream",
     "name": "stdout",
     "text": [
      "9/9 [==============================] - 0s 779us/step - loss: 8361.2412 - mae: 8361.2412\n"
     ]
    },
    {
     "output_type": "execute_result",
     "data": {
      "text/plain": [
       "(1070, 6)"
      ]
     },
     "metadata": {},
     "execution_count": 93
    }
   ],
   "metadata": {}
  },
  {
   "cell_type": "code",
   "execution_count": 64,
   "source": [
    "# pd.DataFrame(history_im3.history).plot(xlabel=\"epochs\", \r\n",
    "# ylabel=\"loss\",title=\"History im3\", xlim=(0,200))\r\n"
   ],
   "outputs": [],
   "metadata": {}
  },
  {
   "cell_type": "code",
   "execution_count": 91,
   "source": [
    "plt.plot(history_im3.history['loss'])\r\n",
    "plt.plot(history_im3.history['val_loss'])\r\n",
    "plt.title('model loss')\r\n",
    "plt.ylabel('loss')\r\n",
    "plt.xlabel('epoch')\r\n",
    "plt.legend(['loss', 'val_loss'], loc='upper right')\r\n",
    "plt.show()"
   ],
   "outputs": [
    {
     "output_type": "display_data",
     "data": {
      "image/png": "[encoded data removed]",
      "text/plain": [
       "<Figure size 432x288 with 1 Axes>"
      ]
     },
     "metadata": {}
    }
   ],
   "metadata": {}
  }
 ],
 "metadata": {
  "orig_nbformat": 4,
  "language_info": {
   "name": "python",
   "version": "3.7.11",
   "mimetype": "text/x-python",
   "codemirror_mode": {
    "name": "ipython",
    "version": 3
   },
   "pygments_lexer": "ipython3",
   "nbconvert_exporter": "python",
   "file_extension": ".py"
  },
  "kernelspec": {
   "name": "python3",
   "display_name": "Python 3.7.11 64-bit ('tutorialspoint': conda)"
  },
  "interpreter": {
   "hash": "45c35a36beb3d1c2f42a56be9142246513f9d24015e8e4e22f7c95d5b06ff02e"
  }
 },
 "nbformat": 4,
 "nbformat_minor": 2
}