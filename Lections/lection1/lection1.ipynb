{
 "cells": [
  {
   "cell_type": "markdown",
   "metadata": {},
   "source": [
    "# Lection1\n",
    "\n",
    "## Course introduction\n",
    "\n",
    "1. What is Data Science?\n",
    "2. Course Curriculum&Estimation\n",
    "3. Usefull links\n",
    "4. Working environment\n",
    "5. Basic approach "
   ]
  },
  {
   "cell_type": "markdown",
   "metadata": {},
   "source": [
    "## 1. What is Data Science?\n",
    "\n",
    "1997 ?\n",
    "\n",
    "Brexit, IW, Tramp, (censored)\n",
    "\n",
    "Alphonse Bertillon\n",
    "https://uk.wikipedia.org/wiki/%D0%90%D0%BB%D1%8C%D1%84%D0%BE%D0%BD%D1%81_%D0%91%D0%B5%D1%80%D1%82%D1%96%D0%BB%D1%8C%D0%B9%D0%BE%D0%BD\n",
    "\n",
    "Data Science\n",
    "https://uk.wikipedia.org/wiki/%D0%9D%D0%B0%D1%83%D0%BA%D0%B0_%D0%BF%D1%80%D0%BE_%D0%B4%D0%B0%D0%BD%D1%96\n",
    "\n",
    "\n"
   ]
  },
  {
   "cell_type": "markdown",
   "metadata": {},
   "source": [
    "## 2. Course Curriculum&Estimation\n",
    "\n",
    "![curriculum](curriculum.jpg 'curriculum.jpg')\n",
    "\n"
   ]
  },
  {
   "cell_type": "markdown",
   "metadata": {},
   "source": [
    "## 3. Usefull links\n",
    "\n",
    "https://www.kaggle.com/\n",
    "\n",
    "https://learn.datacamp.com/\n",
    "\n",
    "freeCodeCamp\n",
    "https://www.youtube.com/c/Freecodecamp/playlists\n",
    "\n",
    "Daniel Bourke\n",
    "https://www.youtube.com/channel/UCr8O8l5cCX85Oem1d18EezQ\n",
    "\n",
    "DataScience Dojo\n",
    "https://www.youtube.com/channel/UCzL_0nIe8B4-7ShhVPfJkgw\n",
    "\n",
    "Roman Mykolaichuk\n",
    "https://www.youtube.com/channel/UCgsP2k0fLRPDCOK2ojwoLHA\n",
    "https://github.com/RomanMykolaichuk/ml2021"
   ]
  },
  {
   "cell_type": "markdown",
   "metadata": {},
   "source": [
    "## 4. Working environment\n",
    "\n",
    "Anaconda\n",
    "https://www.anaconda.com/products/individual-d\n",
    "\n",
    "VS code\n",
    "https://code.visualstudio.com/download\n",
    "\n",
    "GitHub\n",
    "https://github.com/[your github profile name]/ml2022\n",
    "\n",
    "\n",
    "\n",
    "\n",
    "\n"
   ]
  },
  {
   "cell_type": "markdown",
   "metadata": {},
   "source": [
    "## 5. Basic approach "
   ]
  },
  {
   "cell_type": "code",
   "execution_count": 44,
   "metadata": {},
   "outputs": [
    {
     "data": {
      "image/png": "[encoded data removed]",
      "text/plain": [
       "<Figure size 432x288 with 1 Axes>"
      ]
     },
     "metadata": {
      "needs_background": "light"
     },
     "output_type": "display_data"
    }
   ],
   "source": [
    "import matplotlib.pyplot as plt\n",
    "\n",
    "# !pip install numpy\n",
    "import numpy as np\n",
    "x=[0,1,2,3]\n",
    "\n",
    "x=np.array(x)\n",
    "\n",
    "y=[-0.1,1.1,1.9,3.1]\n",
    "plt.scatter(x,y,color=\"blue\",linewidths=1)\n",
    "# plt.plot(x+0.01,color='orange')\n",
    "# plt.plot(x+0.1,color='yellow')\n",
    "# plt.plot(x-0.1,color='brown')\n",
    "# plt.plot(x*.8+0.3,color='violet')\n",
    "\n",
    "# for i in x:\n",
    "#     k=0.5*i\n",
    "#     c=0.03*i\n",
    "#     plt.plot(k*x+c)\n",
    "\n",
    "\n",
    "plt.show()\n",
    "\n"
   ]
  },
  {
   "cell_type": "code",
   "execution_count": 43,
   "metadata": {},
   "outputs": [
    {
     "data": {
      "text/plain": [
       "(-3.3306690738754696e-16,\n",
       " -0.03999999999999948,\n",
       " 0.8000000000000002,\n",
       " 0.40000000000000024,\n",
       " 0.31999999999999995,\n",
       " 0.04040000000000005)"
      ]
     },
     "execution_count": 43,
     "metadata": {},
     "output_type": "execute_result"
    }
   ],
   "source": [
    "k=[0.8,1]\n",
    "c=[0.3,0.01]\n",
    "\n",
    "def metric_ME(x,y,k,c,fn):\n",
    "    res = 0 \n",
    "    for j in range(0,x.size):\n",
    "        res+=(y[j]-fn(x[j],k,c))\n",
    "    return res\n",
    "\n",
    "def metric_MAE(x,y,k,c,fn):\n",
    "    res = 0 \n",
    "    for j in range(0,x.size):\n",
    "        res+=abs(y[j]-fn(x[j],k,c))\n",
    "    return res\n",
    "\n",
    "def metric_MSE(x,y,k,c,fn):\n",
    "    res = 0 \n",
    "    for j in range(0,x.size):\n",
    "        res+=(y[j]-fn(x[j],k,c))**2\n",
    "    return res\n",
    "\n",
    "\n",
    "def fnLine(x,k,c):\n",
    "    return k*x+c\n",
    "\n",
    "\n",
    "\n",
    "(metric_ME(x,y,k[0],c[0],fnLine), metric_ME(x,y,k[1],c[1],fnLine),\n",
    "metric_MAE(x,y,k[0],c[0],fnLine), metric_MAE(x,y,k[1],c[1],fnLine),\n",
    "metric_MSE(x,y,k[0],c[0],fnLine), metric_MSE(x,y,k[1],c[1],fnLine))"
   ]
  }
 ],
 "metadata": {
  "kernelspec": {
   "display_name": "Python 3.7.6 ('base')",
   "language": "python",
   "name": "python3"
  },
  "language_info": {
   "codemirror_mode": {
    "name": "ipython",
    "version": 3
   },
   "file_extension": ".py",
   "mimetype": "text/x-python",
   "name": "python",
   "nbconvert_exporter": "python",
   "pygments_lexer": "ipython3",
   "version": "3.7.6"
  },
  "orig_nbformat": 4,
  "vscode": {
   "interpreter": {
    "hash": "ad2bdc8ecc057115af97d19610ffacc2b4e99fae6737bb82f5d7fb13d2f2c186"
   }
  }
 },
 "nbformat": 4,
 "nbformat_minor": 2
}
