{
 "cells": [
  {
   "cell_type": "markdown",
   "metadata": {},
   "source": [
    "# Lection2\n",
    "\n",
    "![lection logo](http://kinofilms.ua/images/videos/mainpage/14698.jpg)\n",
    "\n",
    "## Basic Frameworks\n",
    "\n",
    "1. ML Roadmap\n",
    "2. Numpay\n",
    "3. Pandas\n",
    "4. Matplotlib\n",
    "\n"
   ]
  },
  {
   "cell_type": "markdown",
   "metadata": {},
   "source": [
    "## ML Roadmap\n",
    "\n",
    "<img src=\"https://www.smartdatacollective.com/wp-content/uploads/2021/06/machine-learning-helps-life-insurance-scaled.jpg\" width=\"512\">\n",
    "\n",
    "[Daniel Bourke Roadmap](https://whimsical.com/machine-learning-roadmap-2020-CA7f3ykvXpnJ9Az32vYXva)"
   ]
  },
  {
   "cell_type": "markdown",
   "metadata": {},
   "source": [
    "## Numpy\n",
    "![Numpy](https://upload.wikimedia.org/wikipedia/commons/thumb/3/31/NumPy_logo_2020.svg/512px-NumPy_logo_2020.svg.png)\n",
    "\n",
    "[Official site](https://numpy.org/)\n",
    "\n",
    "\n",
    "[Youtube tutorial1](https://www.youtube.com/watch?v=QUT1VHiLmmI) & [Code](https://github.com/KeithGalli/NumPy/blob/master/NumPy%20Tutorial.ipynb)\n",
    "\n",
    "\n",
    "[Youtube tutorial2](https://www.youtube.com/watch?v=A2ru857C8Vw&t=30s) & [Code](https://github.com/mujib2020/Numpy-Tutorial)\n",
    "\n",
    "\n",
    "\n",
    "\n",
    "[Cheat Sheets](https://blog.finxter.com/collection-10-best-numpy-cheat-sheets-every-python-coder-must-own/)\n",
    "\n",
    "\n",
    "\n",
    "\n"
   ]
  },
  {
   "cell_type": "markdown",
   "metadata": {},
   "source": [
    "## Pandas\n",
    "\n",
    "![pandas](pandas1.jpg)\n",
    "\n",
    "[Official site](https://pandas.pydata.org/)\n",
    "\n",
    "\n",
    "[Youtube tutorial1](https://www.youtube.com/watch?v=tRKeLrwfUgU) & [Code](https://github.com/nicknochnack/Pandasin20Minutes)\n",
    "\n",
    "[Youtube tutorial2](https://www.youtube.com/watch?v=vmEHCJofslg&t=246s) & [Code](https://github.com/KeithGalli/pandas)\n",
    "\n",
    "\n",
    "[Youtube short tutorial3](https://www.youtube.com/watch?v=iGFdh6_FePU)\n",
    "\n",
    "\n",
    "\n",
    "[Cheat Sheets](https://blog.finxter.com/pandas-cheat-sheets/)"
   ]
  },
  {
   "cell_type": "markdown",
   "metadata": {},
   "source": [
    "## Matplotlib\n",
    "\n",
    "<img src=\"https://matplotlib.org/3.2.2/_static/logo2_compressed.svg\" width=\"400\">\n",
    "\n",
    "\n",
    "[Official site](https://matplotlib.org/stable/index.html)\n",
    "\n",
    "\n",
    "[Youtube tutorial1](https://www.youtube.com/watch?v=3Xc3CA655Y4) & [Code](https://github.com/KeithGalli/matplotlib_tutorial/)\n",
    "\n",
    "\n",
    "[Cheat Sheets](https://blog.finxter.com/best-matplotlib-cheat-sheet/)\n"
   ]
  }
 ],
 "metadata": {
  "kernelspec": {
   "display_name": "Python 3.9.5 64-bit",
   "language": "python",
   "name": "python3"
  },
  "language_info": {
   "codemirror_mode": {
    "name": "ipython",
    "version": 3
   },
   "file_extension": ".py",
   "mimetype": "text/x-python",
   "name": "python",
   "nbconvert_exporter": "python",
   "pygments_lexer": "ipython3",
   "version": "3.9.5"
  },
  "orig_nbformat": 4,
  "vscode": {
   "interpreter": {
    "hash": "81794d4967e6c3204c66dcd87b604927b115b27c00565d3d43f05ba2f3a2cb0d"
   }
  }
 },
 "nbformat": 4,
 "nbformat_minor": 2
}
