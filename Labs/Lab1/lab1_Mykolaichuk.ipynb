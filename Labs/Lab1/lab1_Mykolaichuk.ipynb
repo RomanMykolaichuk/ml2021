{
 "cells": [
  {
   "cell_type": "markdown",
   "source": [
    "# Лабораторна робота №1\r\n",
    "\r\n",
    "### Викладача групи МІТ-31 (підгрупа 1)\r\n",
    "\r\n",
    "### Миколайчука Романа Антоновича"
   ],
   "metadata": {}
  },
  {
   "cell_type": "markdown",
   "source": [
    "## Завдання\r\n",
    "\r\n",
    "<ol>\r\n",
    "  <li>NumPy (створити набір даних (розмір за власним рішенням), провести CRUD операції над даними (скаляр, вектор, матриця)). Використати arange, random.</li>\r\n",
    "  <li>Pandas (створити dataframe різними способами, провести маніпуляції з даними (head, describe, iloc, loc ...))</li>\r\n",
    "  <li>Matplotlib (створити набір даних лінійної функції з урахуванням помилок вимірювань, побудувати графік функції та згенерованих даних, обчислити похибку з використанням метрик MAE, MSE). Записати отримані результати у csv файл (формат: X,Y, Y_hat, mAE, mSE)</li>\r\n",
    "  <li>Відповіді оформити .ipynb документом</li>\r\n",
    "  <li>Викласти у зазначений репозіторій GitHub в окремій папці з назвою Lab1 де має бути .ipynb файл та необхідні файли з даними</li>\r\n",
    "</ol>"
   ],
   "metadata": {}
  }
 ],
 "metadata": {
  "orig_nbformat": 4,
  "language_info": {
   "name": "python",
   "version": "3.7.11"
  },
  "kernelspec": {
   "name": "python3",
   "display_name": "Python 3.7.11 64-bit ('tutorialspoint': conda)"
  },
  "interpreter": {
   "hash": "45c35a36beb3d1c2f42a56be9142246513f9d24015e8e4e22f7c95d5b06ff02e"
  }
 },
 "nbformat": 4,
 "nbformat_minor": 2
}