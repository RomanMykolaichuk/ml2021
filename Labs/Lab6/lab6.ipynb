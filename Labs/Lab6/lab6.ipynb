{
 "cells": [
  {
   "cell_type": "markdown",
   "metadata": {},
   "source": [
    "# Лабораторна робота №6\n",
    "\n",
    "### Викладача групи МІТ-31 (підгрупа 1)\n",
    "\n",
    "### Миколайчука Романа Антоновича\n",
    "## Завдання\n",
    "\n",
    "\n",
    "   1. Виконати вирішення задачs класифікації для 3 класів з набору даних [food101](https://storage.googleapis.com/ztm_tf_course/food_vision/101_food_classes_10_percent.zip)\n",
    "   2. Індекси класів визначити індивідуально за залежностями: i1=n-1,i2=n+29,i3=n+59 (де і1,і2,і3 - індекс класу (починаючи з 0) у відсортованому за алфавітом наборі даних, n - номер за [списком](https://docs.google.com/spreadsheets/d/1G-R5Ln5zxAcCz50U43hn3Dk0DDU_qNy9V8_8XWZ87eA/edit#gid=0) (обчислені значення індексів вказані у даному документі у стовпчиках D:F) )\n",
    "   5. Отримані результати викласти на github у репозиторій ml2021 в основну (default) гілку в папці Lab6."
   ]
  }
 ],
 "metadata": {
  "language_info": {
   "name": "python"
  },
  "orig_nbformat": 4
 },
 "nbformat": 4,
 "nbformat_minor": 2
}
