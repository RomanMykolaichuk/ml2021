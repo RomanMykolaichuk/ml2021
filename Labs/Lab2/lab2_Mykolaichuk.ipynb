{
 "cells": [
  {
   "cell_type": "markdown",
   "source": [
    "# Лабораторна робота №2\r\n",
    "\r\n",
    "### Викладача групи МІТ-31 (підгрупа 1)\r\n",
    "\r\n",
    "### Миколайчука Романа Антоновича"
   ],
   "metadata": {}
  },
  {
   "cell_type": "markdown",
   "source": [
    "## Завдання\r\n",
    "\r\n",
    "\r\n",
    "   1. Створити набір даних за допомогою [DatasetGenerator](https://scikit-learn.org/stable/modules/generated/sklearn.datasets.make_regression.html#sklearn.datasets.make_regression)\r\n",
    "\r\n",
    "   2. Завантажити набір даних для регресії на [сайті](https://www.kaggle.com/datasets?search=regression) (у кожного студента має бути інший - прошу організуватись відповідним чином)\r\n",
    "\r\n",
    "   3. (опціонально для отримання відмінної оцінки) Згенерувати набір даних для регресії на основі звичайних можливостей Python.\r\n",
    "\r\n",
    "   4. Для отриманих наборів даних провести встановленні кроки моделювання.\r\n",
    "\r\n",
    "   5. Отримані результати викласти на github у репозиторій ml2021 в основну (default) гілку в папці Lab2."
   ],
   "metadata": {}
  }
 ],
 "metadata": {
  "orig_nbformat": 4,
  "language_info": {
   "name": "python",
   "version": "3.7.11"
  },
  "kernelspec": {
   "name": "python3",
   "display_name": "Python 3.7.11 64-bit ('tutorialspoint': conda)"
  },
  "interpreter": {
   "hash": "45c35a36beb3d1c2f42a56be9142246513f9d24015e8e4e22f7c95d5b06ff02e"
  }
 },
 "nbformat": 4,
 "nbformat_minor": 2
}